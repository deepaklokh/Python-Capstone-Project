{
 "cells": [
  {
   "cell_type": "markdown",
   "metadata": {},
   "source": [
    "# Capstone Project - Python Fundamentals\n",
    "# Author: DEEPAK LOKHANDE"
   ]
  },
  {
   "cell_type": "markdown",
   "metadata": {},
   "source": [
    "### Task 1: Create and Save Initial DataFrames"
   ]
  },
  {
   "cell_type": "code",
   "execution_count": 1,
   "metadata": {},
   "outputs": [
    {
     "name": "stdout",
     "output_type": "stream",
     "text": [
      "Employee DataFrame saved to employee.csv\n",
      "Seniority DataFrame saved to seniority.csv\n",
      "Project DataFrame saved to project.csv\n"
     ]
    }
   ],
   "source": [
    "import pandas as pd\n",
    "import numpy as np\n",
    "\n",
    "# Create Employee DataFrame\n",
    "df_employee = pd.DataFrame({\n",
    "    'ID': ['A001', 'A002', 'A003', 'A004', 'A005'],\n",
    "    'Name': ['John Alter', 'Alice Luxumberg', 'Tom Sabestine', 'Nina Adgra', 'Amy Johny'],\n",
    "    'Gender': ['M', 'F', 'M', 'F', 'F'],\n",
    "    'City': ['Paris', 'London', 'Berlin', 'Newyork', 'Madrid'],\n",
    "    'Age': [25, 27, 29, 31, 30]\n",
    "})\n",
    "df_employee.to_csv(\"employee.csv\", index=False)  # Save initial CSV\n",
    "print(\"Employee DataFrame saved to employee.csv\")\n",
    "\n",
    "# Create Seniority DataFrame\n",
    "df_seniority = pd.DataFrame({\n",
    "    'ID': ['A001', 'A002', 'A003', 'A004', 'A005'],\n",
    "    'Designation Level': [2, 2, 3, 2, 3]\n",
    "})\n",
    "df_seniority.to_csv(\"seniority.csv\", index=False)  # Save initial CSV\n",
    "print(\"Seniority DataFrame saved to seniority.csv\")\n",
    "\n",
    "# Create Project DataFrame (with NaN costs)\n",
    "df_project = pd.DataFrame({\n",
    "    'ID': ['A001','A002','A003','A004','A005','A002','A005','A003','A001','A003','A001','A004','A004','A005'],\n",
    "    'Project': [\n",
    "        'Project 1', 'Project 2', 'Project 3', 'Project 4', 'Project 5',\n",
    "        'Project 6', 'Project 7', 'Project 8', 'Project 9', 'Project 10',\n",
    "        'Project 11', 'Project 12', 'Project 13', 'Project 14'\n",
    "    ],\n",
    "    'Project Cost': [1002000, 2000000, 4500000, 5500000, np.nan,\n",
    "                     680000, 400000, 350000, np.nan, 300000,\n",
    "                     2000000, 1000000, 3000000, 200000],\n",
    "    'Status': ['Finished','Ongoing','Finished','Ongoing','Finished',\n",
    "               'Failed','Finished','Failed','Ongoing','Finished',\n",
    "               'Failed','Ongoing','Finished','Finished']\n",
    "})\n",
    "df_project.to_csv(\"project.csv\", index=False)  # Save initial CSV\n",
    "print(\"Project DataFrame saved to project.csv\")"
   ]
  },
  {
   "cell_type": "markdown",
   "metadata": {},
   "source": [
    "### Task 2: Replace Missing Cost with Running Average"
   ]
  },
  {
   "cell_type": "code",
   "execution_count": 2,
   "metadata": {},
   "outputs": [
    {
     "name": "stdout",
     "output_type": "stream",
     "text": [
      "Loaded project data for Task 2\n",
      "Missing costs replaced with running average. Project data saved.\n"
     ]
    }
   ],
   "source": [
    "# Reload project data from CSV\n",
    "df_project = pd.read_csv(\"project.csv\")\n",
    "print(\"Loaded project data for Task 2\")\n",
    "\n",
    "# Convert to list for running average calculation\n",
    "costs = df_project['Project Cost'].tolist()\n",
    "running_sum, count = 0, 0\n",
    "\n",
    "# Loop to compute running average for missing values\n",
    "for i in range(len(costs)):\n",
    "    if not pd.isna(costs[i]):  # Check for NaN\n",
    "        running_sum += costs[i]\n",
    "        count += 1\n",
    "    else:\n",
    "        avg = running_sum / count if count != 0 else 0\n",
    "        costs[i] = avg\n",
    "        running_sum += avg\n",
    "        count += 1\n",
    "\n",
    "# Update and save Project DataFrame\n",
    "df_project['Project Cost'] = costs\n",
    "df_project.to_csv(\"project.csv\", index=False)\n",
    "print(\"Missing costs replaced with running average. Project data saved.\")"
   ]
  },
  {
   "cell_type": "markdown",
   "metadata": {},
   "source": [
    "### Task 3: Split Name into First/Last Name"
   ]
  },
  {
   "cell_type": "code",
   "execution_count": 3,
   "metadata": {},
   "outputs": [
    {
     "name": "stdout",
     "output_type": "stream",
     "text": [
      "Loaded employee data for Task 3\n",
      "Name split into First/Last. Employee data saved.\n"
     ]
    }
   ],
   "source": [
    "# Reload employee data from CSV\n",
    "df_employee = pd.read_csv(\"employee.csv\")\n",
    "print(\"Loaded employee data for Task 3\")\n",
    "\n",
    "# Split 'Name' into 'First Name' and 'Last Name'\n",
    "df_employee[['First Name', 'Last Name']] = df_employee['Name'].str.split(' ', n=1, expand=True)\n",
    "\n",
    "# Drop original 'Name' column\n",
    "df_employee.drop(columns='Name', inplace=True)\n",
    "\n",
    "# Save updated Employee DataFrame\n",
    "df_employee.to_csv(\"employee.csv\", index=False)\n",
    "print(\"Name split into First/Last. Employee data saved.\")"
   ]
  },
  {
   "cell_type": "markdown",
   "metadata": {},
   "source": [
    "### Task 4: Join All DataFrames into 'Final'"
   ]
  },
  {
   "cell_type": "code",
   "execution_count": 4,
   "metadata": {},
   "outputs": [
    {
     "name": "stdout",
     "output_type": "stream",
     "text": [
      "Loaded all data for Task 4\n",
      "DataFrames joined into 'Final'. Saved to final_temp.csv\n"
     ]
    }
   ],
   "source": [
    "# Reload all updated CSVs\n",
    "df_employee = pd.read_csv(\"employee.csv\")\n",
    "df_seniority = pd.read_csv(\"seniority.csv\")\n",
    "df_project = pd.read_csv(\"project.csv\")\n",
    "print(\"Loaded all data for Task 4\")\n",
    "\n",
    "# Merge into Final DataFrame\n",
    "df_final = df_project.merge(df_employee, on='ID').merge(df_seniority, on='ID')\n",
    "\n",
    "# Save intermediate for subsequent tasks\n",
    "df_final.to_csv(\"final_temp.csv\", index=False)\n",
    "print(\"DataFrames joined into 'Final'. Saved to final_temp.csv\")"
   ]
  },
  {
   "cell_type": "markdown",
   "metadata": {},
   "source": [
    "### Task 5: Add 5% Bonus for Finished Projects"
   ]
  },
  {
   "cell_type": "code",
   "execution_count": 5,
   "metadata": {},
   "outputs": [
    {
     "name": "stdout",
     "output_type": "stream",
     "text": [
      "Loaded merged data for Task 5\n",
      "5% bonus added for finished projects. Data saved.\n"
     ]
    }
   ],
   "source": [
    "# Reload merged data from Task 4\n",
    "df_final = pd.read_csv(\"final_temp.csv\")\n",
    "print(\"Loaded merged data for Task 5\")\n",
    "\n",
    "# Add 5% bonus if project is 'Finished'\n",
    "df_final['Bonus'] = np.where(df_final['Status'] == 'Finished', df_final['Project Cost'] * 0.05, 0)\n",
    "\n",
    "# Save updated data\n",
    "df_final.to_csv(\"final_temp.csv\", index=False)\n",
    "print(\"5% bonus added for finished projects. Data saved.\")"
   ]
  },
  {
   "cell_type": "markdown",
   "metadata": {},
   "source": [
    "### Task 6: Demote Designation for Failed Projects & Remove Ineligible"
   ]
  },
  {
   "cell_type": "code",
   "execution_count": 6,
   "metadata": {},
   "outputs": [
    {
     "name": "stdout",
     "output_type": "stream",
     "text": [
      "Loaded merged data for Task 6\n",
      "Designation adjusted for failed projects. Ineligible employees removed.\n"
     ]
    }
   ],
   "source": [
    "# Reload merged data from Task 5\n",
    "df_final = pd.read_csv(\"final_temp.csv\")\n",
    "print(\"Loaded merged data for Task 6\")\n",
    "\n",
    "# Identify employees with ANY failed projects\n",
    "failed_employees = df_final[df_final['Status'] == 'Failed']['ID'].unique()\n",
    "\n",
    "# Demote designation by 1 for these employees (once per employee)\n",
    "df_final.loc[df_final['ID'].isin(failed_employees), 'Designation Level'] += 1\n",
    "\n",
    "# Remove employees with designation >4\n",
    "df_final = df_final[df_final['Designation Level'] <= 4]\n",
    "\n",
    "# Ensure minimum designation is 1\n",
    "df_final['Designation Level'] = df_final['Designation Level'].clip(lower=1)\n",
    "\n",
    "# Save updated data\n",
    "df_final.to_csv(\"final_temp.csv\", index=False)\n",
    "print(\"Designation adjusted for failed projects. Ineligible employees removed.\")"
   ]
  },
  {
   "cell_type": "markdown",
   "metadata": {},
   "source": [
    "### Task 7: Add Mr./Mrs. Prefix & Drop Gender"
   ]
  },
  {
   "cell_type": "code",
   "execution_count": 7,
   "metadata": {},
   "outputs": [
    {
     "name": "stdout",
     "output_type": "stream",
     "text": [
      "Loaded merged data for Task 7\n",
      "Mr./Mrs. added to First Name. Gender column dropped.\n"
     ]
    }
   ],
   "source": [
    "# Reload merged data from Task 6\n",
    "df_final = pd.read_csv(\"final_temp.csv\")\n",
    "print(\"Loaded merged data for Task 7\")\n",
    "\n",
    "# Add prefix to First Name based on Gender\n",
    "df_final['First Name'] = np.where(\n",
    "    df_final['Gender'] == 'M', \n",
    "    'Mr. ' + df_final['First Name'], \n",
    "    'Mrs. ' + df_final['First Name']\n",
    ")\n",
    "\n",
    "# Drop Gender column\n",
    "df_final.drop(columns='Gender', inplace=True)\n",
    "\n",
    "# Save updated data\n",
    "df_final.to_csv(\"final_temp.csv\", index=False)\n",
    "print(\"Mr./Mrs. added to First Name. Gender column dropped.\")"
   ]
  },
  {
   "cell_type": "markdown",
   "metadata": {},
   "source": [
    "### Task 8: Promote Designation for Age >29"
   ]
  },
  {
   "cell_type": "code",
   "execution_count": 8,
   "metadata": {},
   "outputs": [
    {
     "name": "stdout",
     "output_type": "stream",
     "text": [
      "Loaded merged data for Task 8\n",
      "Designation promoted for employees >29. Data saved.\n"
     ]
    }
   ],
   "source": [
    "# Reload merged data from Task 7\n",
    "df_final = pd.read_csv(\"final_temp.csv\")\n",
    "print(\"Loaded merged data for Task 8\")\n",
    "\n",
    "# Identify employees with Age >29\n",
    "promoted_employees = df_final[df_final['Age'] > 29]['ID'].unique()\n",
    "\n",
    "# Promote designation by 1 for these employees (once per employee)\n",
    "df_final.loc[df_final['ID'].isin(promoted_employees), 'Designation Level'] -= 1\n",
    "\n",
    "# Ensure minimum designation is 1\n",
    "df_final['Designation Level'] = df_final['Designation Level'].clip(lower=1)\n",
    "\n",
    "# Save updated data\n",
    "df_final.to_csv(\"final_temp.csv\", index=False)\n",
    "print(\"Designation promoted for employees >29. Data saved.\")"
   ]
  },
  {
   "cell_type": "markdown",
   "metadata": {},
   "source": [
    "### Task 9: Create Total Project Cost DataFrame"
   ]
  },
  {
   "cell_type": "code",
   "execution_count": 9,
   "metadata": {},
   "outputs": [
    {
     "name": "stdout",
     "output_type": "stream",
     "text": [
      "Loaded merged data for Task 9\n",
      "Total Project Cost saved to total_project_cost.csv\n"
     ]
    }
   ],
   "source": [
    "# Reload merged data from Task 8\n",
    "df_final = pd.read_csv(\"final_temp.csv\")\n",
    "print(\"Loaded merged data for Task 9\")\n",
    "\n",
    "# Group by ID/First Name and sum Project Cost\n",
    "total_proj_cost = df_final.groupby(['ID', 'First Name'], as_index=False)['Project Cost'].sum()\n",
    "total_proj_cost.rename(columns={'Project Cost': 'Total Cost'}, inplace=True)\n",
    "\n",
    "# Save final deliverable\n",
    "total_proj_cost.to_csv(\"total_project_cost.csv\", index=False)\n",
    "print(\"Total Project Cost saved to total_project_cost.csv\")"
   ]
  },
  {
   "cell_type": "markdown",
   "metadata": {},
   "source": [
    "### Task 10: Print Employees with 'o' in City & Save Final"
   ]
  },
  {
   "cell_type": "code",
   "execution_count": 11,
   "metadata": {},
   "outputs": [
    {
     "name": "stdout",
     "output_type": "stream",
     "text": [
      "Loaded merged data for Task 10\n",
      "\n",
      "Employees with 'o' in City:\n",
      "      ID     Project  Project Cost    Status     City  Age  First Name  \\\n",
      "1   A002   Project 2     2000000.0   Ongoing   London   27  Mrs. Alice   \n",
      "3   A004   Project 4     5500000.0   Ongoing  Newyork   31   Mrs. Nina   \n",
      "5   A002   Project 6      680000.0    Failed   London   27  Mrs. Alice   \n",
      "11  A004  Project 12     1000000.0   Ongoing  Newyork   31   Mrs. Nina   \n",
      "12  A004  Project 13     3000000.0  Finished  Newyork   31   Mrs. Nina   \n",
      "\n",
      "    Last Name  Designation Level     Bonus  \n",
      "1   Luxumberg                  3       0.0  \n",
      "3       Adgra                  1       0.0  \n",
      "5   Luxumberg                  3       0.0  \n",
      "11      Adgra                  1       0.0  \n",
      "12      Adgra                  1  150000.0  \n"
     ]
    }
   ],
   "source": [
    "# Reload merged data from Task 8\n",
    "df_final = pd.read_csv(\"final_temp.csv\")\n",
    "print(\"Loaded merged data for Task 10\")\n",
    "\n",
    "# Print employees with 'o' in City (case-insensitive)\n",
    "print(\"\\nEmployees with 'o' in City:\")\n",
    "print(df_final[df_final['City'].str.contains('o', case=False)])\n"
   ]
  },
  {
   "cell_type": "markdown",
   "metadata": {},
   "source": [
    "### Save final outputs"
   ]
  },
  {
   "cell_type": "code",
   "execution_count": 12,
   "metadata": {},
   "outputs": [
    {
     "name": "stdout",
     "output_type": "stream",
     "text": [
      "Final DataFrame saved to final_dataframe.csv\n"
     ]
    }
   ],
   "source": [
    "# Save final DataFrame\n",
    "df_final.to_csv(\"final_dataframe.csv\", index=False)\n",
    "print(\"Final DataFrame saved to final_dataframe.csv\")"
   ]
  }
 ],
 "metadata": {
  "kernelspec": {
   "display_name": "Python [conda env:base] *",
   "language": "python",
   "name": "conda-base-py"
  },
  "language_info": {
   "codemirror_mode": {
    "name": "ipython",
    "version": 3
   },
   "file_extension": ".py",
   "mimetype": "text/x-python",
   "name": "python",
   "nbconvert_exporter": "python",
   "pygments_lexer": "ipython3",
   "version": "3.12.3"
  }
 },
 "nbformat": 4,
 "nbformat_minor": 4
}
